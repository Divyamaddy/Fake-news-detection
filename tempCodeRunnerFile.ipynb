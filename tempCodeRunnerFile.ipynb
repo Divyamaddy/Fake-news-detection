def output_label(n):
    if n==0:
       return "Fake News"
    elif n==1:
       return "Not a fake news"

def manual_testing(news):
    testing_news = {"text" : [news]}
    new_def_test = pd.DataFrame(testing_news)
    new_x_test["text"] = new_def_test["text"].apply(wordopt)
    new_x_test = new_def_test["text"]
    new_xv_test = vectorization.transform(new_x_test)
    pred_LR = LR.predict(new_xv_test)
    pred_DT = DT.predict(new_xv_test)
    pred_GB = GB.predict(new_xv_test)
    pred_RF = RF.predict(new_xv_test)

return print("\n\nLR Prediction: {} \nGBC Prediction: {}\nRFC Prediction: {}" format(output_label(pred_LR[0]),output_label(pred_GBC[0]),output_label(pred_RFC[0])))

